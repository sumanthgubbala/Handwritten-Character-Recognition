{
  "nbformat": 4,
  "nbformat_minor": 0,
  "metadata": {
    "colab": {
      "provenance": [],
      "gpuType": "V28",
      "authorship_tag": "ABX9TyNmehkGYYtAoFiTmYkwlEOA",
      "include_colab_link": true
    },
    "kernelspec": {
      "name": "python3",
      "display_name": "Python 3"
    },
    "language_info": {
      "name": "python"
    },
    "accelerator": "TPU"
  },
  "cells": [
    {
      "cell_type": "markdown",
      "metadata": {
        "id": "view-in-github",
        "colab_type": "text"
      },
      "source": [
        "<a href=\"https://colab.research.google.com/github/sumanthgubbala/Handwritten-Character-Recognition/blob/main/Handwritten_Character_Recognition.ipynb\" target=\"_parent\"><img src=\"https://colab.research.google.com/assets/colab-badge.svg\" alt=\"Open In Colab\"/></a>"
      ]
    },
    {
      "cell_type": "markdown",
      "source": [
        "#Set up"
      ],
      "metadata": {
        "id": "wwelV7AhkVAo"
      }
    },
    {
      "cell_type": "code",
      "source": [
        "!pip install kaggle"
      ],
      "metadata": {
        "colab": {
          "base_uri": "https://localhost:8080/"
        },
        "id": "YyR_EDugwRJN",
        "outputId": "6c36bcb4-5336-4681-961d-70ecf12cfe06"
      },
      "execution_count": null,
      "outputs": [
        {
          "output_type": "stream",
          "name": "stdout",
          "text": [
            "Requirement already satisfied: kaggle in /usr/local/lib/python3.10/dist-packages (1.6.17)\n",
            "Requirement already satisfied: six>=1.10 in /usr/local/lib/python3.10/dist-packages (from kaggle) (1.17.0)\n",
            "Requirement already satisfied: certifi>=2023.7.22 in /usr/local/lib/python3.10/dist-packages (from kaggle) (2024.12.14)\n",
            "Requirement already satisfied: python-dateutil in /usr/local/lib/python3.10/dist-packages (from kaggle) (2.9.0.post0)\n",
            "Requirement already satisfied: requests in /usr/local/lib/python3.10/dist-packages (from kaggle) (2.32.3)\n",
            "Requirement already satisfied: tqdm in /usr/local/lib/python3.10/dist-packages (from kaggle) (4.67.1)\n",
            "Requirement already satisfied: python-slugify in /usr/local/lib/python3.10/dist-packages (from kaggle) (8.0.4)\n",
            "Requirement already satisfied: urllib3 in /usr/local/lib/python3.10/dist-packages (from kaggle) (2.2.3)\n",
            "Requirement already satisfied: bleach in /usr/local/lib/python3.10/dist-packages (from kaggle) (6.2.0)\n",
            "Requirement already satisfied: webencodings in /usr/local/lib/python3.10/dist-packages (from bleach->kaggle) (0.5.1)\n",
            "Requirement already satisfied: text-unidecode>=1.3 in /usr/local/lib/python3.10/dist-packages (from python-slugify->kaggle) (1.3)\n",
            "Requirement already satisfied: charset-normalizer<4,>=2 in /usr/local/lib/python3.10/dist-packages (from requests->kaggle) (3.4.0)\n",
            "Requirement already satisfied: idna<4,>=2.5 in /usr/local/lib/python3.10/dist-packages (from requests->kaggle) (3.10)\n"
          ]
        }
      ]
    },
    {
      "cell_type": "code",
      "source": [
        "!mkdir -p ~/.kaggle\n",
        "!cp kaggle.json ~/.kaggle/\n",
        "!chmod 600 ~/.kaggle/kaggle.json"
      ],
      "metadata": {
        "id": "PQLtGth_wUtU"
      },
      "execution_count": null,
      "outputs": []
    },
    {
      "cell_type": "code",
      "source": [
        "!cp /content/kaggle.json ~/.kaggle/\n",
        "!chmod 600 ~/.kaggle/kaggle.json"
      ],
      "metadata": {
        "id": "dBhBx7XcweEw"
      },
      "execution_count": null,
      "outputs": []
    },
    {
      "cell_type": "code",
      "source": [
        "!kaggle competitions download -c emnistfhj-2024"
      ],
      "metadata": {
        "colab": {
          "base_uri": "https://localhost:8080/"
        },
        "id": "M6clWxY5u51B",
        "outputId": "849c3ddb-44fa-4ebe-fb1d-76ae62fe151a"
      },
      "execution_count": null,
      "outputs": [
        {
          "output_type": "stream",
          "name": "stdout",
          "text": [
            "Downloading emnistfhj-2024.zip to /content\n",
            " 97% 264M/273M [00:01<00:00, 162MB/s]\n",
            "100% 273M/273M [00:01<00:00, 145MB/s]\n"
          ]
        }
      ]
    },
    {
      "cell_type": "code",
      "source": [
        "from zipfile import ZipFile\n",
        "dataset= '/content/emnistfhj-2024.zip'\n",
        "\n",
        "with ZipFile(dataset,'r') as zip:\n",
        "  zip.extractall()\n",
        "  print(\"extracted\")"
      ],
      "metadata": {
        "colab": {
          "base_uri": "https://localhost:8080/"
        },
        "id": "4k-XmQR4wMTh",
        "outputId": "9532a652-34be-458c-cf0e-76c3416db2fc"
      },
      "execution_count": null,
      "outputs": [
        {
          "output_type": "stream",
          "name": "stdout",
          "text": [
            "extracted\n"
          ]
        }
      ]
    },
    {
      "cell_type": "markdown",
      "source": [
        "#Importing Libraries"
      ],
      "metadata": {
        "id": "sC89njp-kYUK"
      }
    },
    {
      "cell_type": "code",
      "source": [
        "import pandas as pd\n",
        "import numpy as np\n",
        "from sklearn.model_selection import train_test_split\n",
        "from tensorflow.keras.models import Sequential\n",
        "from tensorflow.keras.layers import Dense, Flatten, Conv2D, MaxPooling2D\n",
        "from tensorflow.keras.utils import to_categorical\n",
        "from tensorflow.keras.preprocessing.image import ImageDataGenerator\n",
        "import tensorflow as tf\n",
        "import matplotlib.pyplot as plt"
      ],
      "metadata": {
        "id": "y91ipDbJw3Rx"
      },
      "execution_count": null,
      "outputs": []
    },
    {
      "cell_type": "markdown",
      "source": [
        "# Data Load"
      ],
      "metadata": {
        "id": "Xb_OHkMEkn-j"
      }
    },
    {
      "cell_type": "code",
      "source": [
        "# Load train.csv\n",
        "train_data = pd.read_csv('train.csv')"
      ],
      "metadata": {
        "id": "sEEfcayIw6j-"
      },
      "execution_count": null,
      "outputs": []
    },
    {
      "cell_type": "code",
      "source": [
        "# Check the first few rows of the train dataset\n",
        "print(train_data.head())"
      ],
      "metadata": {
        "colab": {
          "base_uri": "https://localhost:8080/"
        },
        "id": "nS-ks2SKw_TU",
        "outputId": "89279928-8d59-4341-cf6b-0b3d995229d9"
      },
      "execution_count": null,
      "outputs": [
        {
          "output_type": "stream",
          "name": "stdout",
          "text": [
            "        id_code  label  pixel_0  pixel_1  pixel_2  pixel_3  pixel_4  pixel_5  \\\n",
            "0  train_035061    116        0        0        0        0        0        0   \n",
            "1  train_680037    104        0        0        0        0        0        0   \n",
            "2  train_746003     78        0        0        0        0        0        0   \n",
            "3  train_024091     83        0        0        0        0        0        0   \n",
            "4  train_648745     56        0        0        0        0        0        0   \n",
            "\n",
            "   pixel_6  pixel_7  ...  pixel_774  pixel_775  pixel_776  pixel_777  \\\n",
            "0        0        0  ...          0          0          0          0   \n",
            "1        0        0  ...          0          0          0          0   \n",
            "2        0        0  ...          0          0          0          0   \n",
            "3        0        0  ...          0          0          0          0   \n",
            "4        0        0  ...          0          0          0          0   \n",
            "\n",
            "   pixel_778  pixel_779  pixel_780  pixel_781  pixel_782  pixel_783  \n",
            "0          0          0          0          0          0          0  \n",
            "1          0          0          0          0          0          0  \n",
            "2          0          0          0          0          0          0  \n",
            "3          0          0          0          0          0          0  \n",
            "4          0          0          0          0          0          0  \n",
            "\n",
            "[5 rows x 786 columns]\n"
          ]
        }
      ]
    },
    {
      "cell_type": "code",
      "source": [
        "train_data.columns"
      ],
      "metadata": {
        "colab": {
          "base_uri": "https://localhost:8080/"
        },
        "id": "AexUzbOmyXi3",
        "outputId": "45f2c3a2-be12-4ac3-e923-b4256cc2089a"
      },
      "execution_count": null,
      "outputs": [
        {
          "output_type": "execute_result",
          "data": {
            "text/plain": [
              "Index(['id_code', 'label', 'pixel_0', 'pixel_1', 'pixel_2', 'pixel_3',\n",
              "       'pixel_4', 'pixel_5', 'pixel_6', 'pixel_7',\n",
              "       ...\n",
              "       'pixel_774', 'pixel_775', 'pixel_776', 'pixel_777', 'pixel_778',\n",
              "       'pixel_779', 'pixel_780', 'pixel_781', 'pixel_782', 'pixel_783'],\n",
              "      dtype='object', length=786)"
            ]
          },
          "metadata": {},
          "execution_count": 10
        }
      ]
    },
    {
      "cell_type": "code",
      "source": [
        "# Separate labels and features\n",
        "X_train = train_data.drop(columns=['id_code', 'label']).values\n",
        "y_train = train_data['label'].values"
      ],
      "metadata": {
        "id": "WaRpV8sCyIso"
      },
      "execution_count": null,
      "outputs": []
    },
    {
      "cell_type": "code",
      "source": [
        "X_train.shape"
      ],
      "metadata": {
        "colab": {
          "base_uri": "https://localhost:8080/"
        },
        "id": "5x2sqI0n_9Uv",
        "outputId": "cfe6ed52-ac8a-4c4b-d956-c53b61e5aa2d"
      },
      "execution_count": null,
      "outputs": [
        {
          "output_type": "execute_result",
          "data": {
            "text/plain": [
              "(651404, 784)"
            ]
          },
          "metadata": {},
          "execution_count": 12
        }
      ]
    },
    {
      "cell_type": "code",
      "source": [
        "# reshaping\n",
        "X_train = X_train.reshape(-1, 28, 28, 1)\n"
      ],
      "metadata": {
        "id": "bKGdTuomycRZ"
      },
      "execution_count": null,
      "outputs": []
    },
    {
      "cell_type": "code",
      "source": [
        "X_train.shape"
      ],
      "metadata": {
        "colab": {
          "base_uri": "https://localhost:8080/"
        },
        "id": "RKpYv5ZkBjhN",
        "outputId": "2040014a-7f20-47ef-f7c7-cf9d98d720e6"
      },
      "execution_count": null,
      "outputs": [
        {
          "output_type": "execute_result",
          "data": {
            "text/plain": [
              "(651404, 28, 28, 1)"
            ]
          },
          "metadata": {},
          "execution_count": 15
        }
      ]
    },
    {
      "cell_type": "code",
      "source": [
        "X_train = X_train/255"
      ],
      "metadata": {
        "id": "ZYLa0t6hAhy8"
      },
      "execution_count": null,
      "outputs": []
    },
    {
      "cell_type": "markdown",
      "source": [
        "#Data visualization"
      ],
      "metadata": {
        "id": "7S7pwb2fkto9"
      }
    },
    {
      "cell_type": "code",
      "source": [
        "import matplotlib.pyplot as plt\n",
        "\n",
        "# Visualize the first image\n",
        "plt.imshow(X_train[1].reshape(28, 28), cmap='gray')\n",
        "plt.title(f\"Label: {chr(y_train[1])}\")\n",
        "plt.axis('off')\n",
        "plt.show()\n"
      ],
      "metadata": {
        "colab": {
          "base_uri": "https://localhost:8080/",
          "height": 428
        },
        "id": "LVvJpFNIyh5x",
        "outputId": "770bda38-a5ae-45e1-99b3-f780a441c9ee"
      },
      "execution_count": null,
      "outputs": [
        {
          "output_type": "display_data",
          "data": {
            "text/plain": [
              "<Figure size 640x480 with 1 Axes>"
            ],
            "image/png": "[encoded data removed]"
          },
          "metadata": {}
        }
      ]
    },
    {
      "cell_type": "code",
      "source": [
        "# Load the test dataset\n",
        "test_data = pd.read_csv(\"test.csv\")\n",
        "\n",
        "# Check the structure\n",
        "print(test_data.head())\n"
      ],
      "metadata": {
        "colab": {
          "base_uri": "https://localhost:8080/"
        },
        "id": "UZytvy1QykB0",
        "outputId": "9d81fa0b-6197-4af4-cad8-9bdabce32419"
      },
      "execution_count": null,
      "outputs": [
        {
          "output_type": "stream",
          "name": "stdout",
          "text": [
            "       id_code  pixel_0  pixel_1  pixel_2  pixel_3  pixel_4  pixel_5  pixel_6  \\\n",
            "0  test_000000        0        0        0        0        0        0        0   \n",
            "1  test_000001        0        0        0        0        0        0        0   \n",
            "2  test_000002        0        0        0        0        0        0        0   \n",
            "3  test_000003        0        0        0        0        0        0        0   \n",
            "4  test_000004        0        0        0        0        0        0        0   \n",
            "\n",
            "   pixel_7  pixel_8  ...  pixel_774  pixel_775  pixel_776  pixel_777  \\\n",
            "0        0        0  ...          0          0          0          0   \n",
            "1        0        0  ...          0          0          0          0   \n",
            "2        0        0  ...          0          0          0          0   \n",
            "3        0        0  ...          0          0          0          0   \n",
            "4        0        0  ...          0          0          0          0   \n",
            "\n",
            "   pixel_778  pixel_779  pixel_780  pixel_781  pixel_782  pixel_783  \n",
            "0          0          0          0          0          0          0  \n",
            "1          0          0          0          0          0          0  \n",
            "2          0          0          0          0          0          0  \n",
            "3          0          0          0          0          0          0  \n",
            "4          0          0          0          0          0          0  \n",
            "\n",
            "[5 rows x 785 columns]\n"
          ]
        }
      ]
    },
    {
      "cell_type": "code",
      "source": [
        "test_data.columns"
      ],
      "metadata": {
        "colab": {
          "base_uri": "https://localhost:8080/"
        },
        "id": "VPD0TQ07y_uE",
        "outputId": "e98d0366-4e41-4c7b-ebc4-9fd2f06e172c"
      },
      "execution_count": null,
      "outputs": [
        {
          "output_type": "execute_result",
          "data": {
            "text/plain": [
              "Index(['id_code', 'pixel_0', 'pixel_1', 'pixel_2', 'pixel_3', 'pixel_4',\n",
              "       'pixel_5', 'pixel_6', 'pixel_7', 'pixel_8',\n",
              "       ...\n",
              "       'pixel_774', 'pixel_775', 'pixel_776', 'pixel_777', 'pixel_778',\n",
              "       'pixel_779', 'pixel_780', 'pixel_781', 'pixel_782', 'pixel_783'],\n",
              "      dtype='object', length=785)"
            ]
          },
          "metadata": {},
          "execution_count": 19
        }
      ]
    },
    {
      "cell_type": "code",
      "source": [
        "test_data.shape"
      ],
      "metadata": {
        "colab": {
          "base_uri": "https://localhost:8080/"
        },
        "id": "TyIEgMSdbvnh",
        "outputId": "be050b3e-432e-475b-face-aa2e1d3340dd"
      },
      "execution_count": null,
      "outputs": [
        {
          "output_type": "execute_result",
          "data": {
            "text/plain": [
              "(162851, 785)"
            ]
          },
          "metadata": {},
          "execution_count": 20
        }
      ]
    },
    {
      "cell_type": "code",
      "source": [
        "X_test = test_data.iloc[:, 1:].values"
      ],
      "metadata": {
        "id": "CiNo4IdYzFiC"
      },
      "execution_count": null,
      "outputs": []
    },
    {
      "cell_type": "code",
      "source": [
        "X_test"
      ],
      "metadata": {
        "colab": {
          "base_uri": "https://localhost:8080/"
        },
        "id": "ViCejarg3CdR",
        "outputId": "793ccd25-980f-4824-8174-fbb027ebc78b"
      },
      "execution_count": null,
      "outputs": [
        {
          "output_type": "execute_result",
          "data": {
            "text/plain": [
              "array([[0, 0, 0, ..., 0, 0, 0],\n",
              "       [0, 0, 0, ..., 0, 0, 0],\n",
              "       [0, 0, 0, ..., 0, 0, 0],\n",
              "       ...,\n",
              "       [0, 0, 0, ..., 0, 0, 0],\n",
              "       [0, 0, 0, ..., 0, 0, 0],\n",
              "       [0, 0, 0, ..., 0, 0, 0]])"
            ]
          },
          "metadata": {},
          "execution_count": 22
        }
      ]
    },
    {
      "cell_type": "code",
      "source": [
        "# Reshape\n",
        "X_test = X_test.reshape(-1, 28, 28, 1)\n"
      ],
      "metadata": {
        "id": "q4srIGDo3MSr"
      },
      "execution_count": null,
      "outputs": []
    },
    {
      "cell_type": "code",
      "source": [
        "X_test.shape"
      ],
      "metadata": {
        "colab": {
          "base_uri": "https://localhost:8080/"
        },
        "id": "1j1Q1LJ03fST",
        "outputId": "db4210a1-81e8-4589-b748-7cad9405b86c"
      },
      "execution_count": null,
      "outputs": [
        {
          "output_type": "execute_result",
          "data": {
            "text/plain": [
              "(162851, 28, 28, 1)"
            ]
          },
          "metadata": {},
          "execution_count": 26
        }
      ]
    },
    {
      "cell_type": "code",
      "source": [
        "# normalize the pixels\n",
        "X_test = X_test / 255  # 28x28 images, normalize to [0, 1]\n"
      ],
      "metadata": {
        "id": "BMfkzETgzg-4"
      },
      "execution_count": null,
      "outputs": []
    },
    {
      "cell_type": "code",
      "source": [
        "X_test"
      ],
      "metadata": {
        "colab": {
          "base_uri": "https://localhost:8080/"
        },
        "id": "GwBjxjZc3HZQ",
        "outputId": "db6f3f11-77d8-476a-f38e-95a3162d1665",
        "collapsed": true
      },
      "execution_count": null,
      "outputs": [
        {
          "output_type": "execute_result",
          "data": {
            "text/plain": [
              "array([[[[0.        ],\n",
              "         [0.        ],\n",
              "         [0.        ],\n",
              "         ...,\n",
              "         [0.        ],\n",
              "         [0.        ],\n",
              "         [0.        ]],\n",
              "\n",
              "        [[0.        ],\n",
              "         [0.        ],\n",
              "         [0.        ],\n",
              "         ...,\n",
              "         [0.        ],\n",
              "         [0.        ],\n",
              "         [0.        ]],\n",
              "\n",
              "        [[0.        ],\n",
              "         [0.        ],\n",
              "         [0.        ],\n",
              "         ...,\n",
              "         [0.        ],\n",
              "         [0.        ],\n",
              "         [0.        ]],\n",
              "\n",
              "        ...,\n",
              "\n",
              "        [[0.        ],\n",
              "         [0.        ],\n",
              "         [0.        ],\n",
              "         ...,\n",
              "         [0.        ],\n",
              "         [0.        ],\n",
              "         [0.        ]],\n",
              "\n",
              "        [[0.        ],\n",
              "         [0.        ],\n",
              "         [0.        ],\n",
              "         ...,\n",
              "         [0.        ],\n",
              "         [0.        ],\n",
              "         [0.        ]],\n",
              "\n",
              "        [[0.        ],\n",
              "         [0.        ],\n",
              "         [0.        ],\n",
              "         ...,\n",
              "         [0.        ],\n",
              "         [0.        ],\n",
              "         [0.        ]]],\n",
              "\n",
              "\n",
              "       [[[0.        ],\n",
              "         [0.        ],\n",
              "         [0.        ],\n",
              "         ...,\n",
              "         [0.        ],\n",
              "         [0.        ],\n",
              "         [0.        ]],\n",
              "\n",
              "        [[0.        ],\n",
              "         [0.        ],\n",
              "         [0.        ],\n",
              "         ...,\n",
              "         [0.        ],\n",
              "         [0.        ],\n",
              "         [0.        ]],\n",
              "\n",
              "        [[0.        ],\n",
              "         [0.        ],\n",
              "         [0.        ],\n",
              "         ...,\n",
              "         [0.        ],\n",
              "         [0.        ],\n",
              "         [0.        ]],\n",
              "\n",
              "        ...,\n",
              "\n",
              "        [[0.        ],\n",
              "         [0.        ],\n",
              "         [0.        ],\n",
              "         ...,\n",
              "         [0.        ],\n",
              "         [0.        ],\n",
              "         [0.        ]],\n",
              "\n",
              "        [[0.        ],\n",
              "         [0.        ],\n",
              "         [0.        ],\n",
              "         ...,\n",
              "         [0.        ],\n",
              "         [0.        ],\n",
              "         [0.        ]],\n",
              "\n",
              "        [[0.        ],\n",
              "         [0.        ],\n",
              "         [0.        ],\n",
              "         ...,\n",
              "         [0.        ],\n",
              "         [0.        ],\n",
              "         [0.        ]]],\n",
              "\n",
              "\n",
              "       [[[0.        ],\n",
              "         [0.        ],\n",
              "         [0.        ],\n",
              "         ...,\n",
              "         [0.        ],\n",
              "         [0.        ],\n",
              "         [0.        ]],\n",
              "\n",
              "        [[0.        ],\n",
              "         [0.        ],\n",
              "         [0.        ],\n",
              "         ...,\n",
              "         [0.        ],\n",
              "         [0.        ],\n",
              "         [0.        ]],\n",
              "\n",
              "        [[0.        ],\n",
              "         [0.        ],\n",
              "         [0.        ],\n",
              "         ...,\n",
              "         [0.        ],\n",
              "         [0.        ],\n",
              "         [0.        ]],\n",
              "\n",
              "        ...,\n",
              "\n",
              "        [[0.        ],\n",
              "         [0.        ],\n",
              "         [0.01568627],\n",
              "         ...,\n",
              "         [0.        ],\n",
              "         [0.        ],\n",
              "         [0.        ]],\n",
              "\n",
              "        [[0.        ],\n",
              "         [0.        ],\n",
              "         [0.        ],\n",
              "         ...,\n",
              "         [0.        ],\n",
              "         [0.        ],\n",
              "         [0.        ]],\n",
              "\n",
              "        [[0.        ],\n",
              "         [0.        ],\n",
              "         [0.        ],\n",
              "         ...,\n",
              "         [0.        ],\n",
              "         [0.        ],\n",
              "         [0.        ]]],\n",
              "\n",
              "\n",
              "       ...,\n",
              "\n",
              "\n",
              "       [[[0.        ],\n",
              "         [0.        ],\n",
              "         [0.        ],\n",
              "         ...,\n",
              "         [0.        ],\n",
              "         [0.        ],\n",
              "         [0.        ]],\n",
              "\n",
              "        [[0.        ],\n",
              "         [0.        ],\n",
              "         [0.        ],\n",
              "         ...,\n",
              "         [0.00784314],\n",
              "         [0.        ],\n",
              "         [0.        ]],\n",
              "\n",
              "        [[0.        ],\n",
              "         [0.        ],\n",
              "         [0.        ],\n",
              "         ...,\n",
              "         [0.24705882],\n",
              "         [0.00784314],\n",
              "         [0.        ]],\n",
              "\n",
              "        ...,\n",
              "\n",
              "        [[0.        ],\n",
              "         [0.        ],\n",
              "         [0.        ],\n",
              "         ...,\n",
              "         [0.        ],\n",
              "         [0.        ],\n",
              "         [0.        ]],\n",
              "\n",
              "        [[0.        ],\n",
              "         [0.        ],\n",
              "         [0.        ],\n",
              "         ...,\n",
              "         [0.        ],\n",
              "         [0.        ],\n",
              "         [0.        ]],\n",
              "\n",
              "        [[0.        ],\n",
              "         [0.        ],\n",
              "         [0.        ],\n",
              "         ...,\n",
              "         [0.        ],\n",
              "         [0.        ],\n",
              "         [0.        ]]],\n",
              "\n",
              "\n",
              "       [[[0.        ],\n",
              "         [0.        ],\n",
              "         [0.        ],\n",
              "         ...,\n",
              "         [0.        ],\n",
              "         [0.        ],\n",
              "         [0.        ]],\n",
              "\n",
              "        [[0.        ],\n",
              "         [0.        ],\n",
              "         [0.        ],\n",
              "         ...,\n",
              "         [0.        ],\n",
              "         [0.        ],\n",
              "         [0.        ]],\n",
              "\n",
              "        [[0.        ],\n",
              "         [0.        ],\n",
              "         [0.        ],\n",
              "         ...,\n",
              "         [0.        ],\n",
              "         [0.        ],\n",
              "         [0.        ]],\n",
              "\n",
              "        ...,\n",
              "\n",
              "        [[0.        ],\n",
              "         [0.        ],\n",
              "         [0.        ],\n",
              "         ...,\n",
              "         [0.        ],\n",
              "         [0.        ],\n",
              "         [0.        ]],\n",
              "\n",
              "        [[0.        ],\n",
              "         [0.        ],\n",
              "         [0.        ],\n",
              "         ...,\n",
              "         [0.        ],\n",
              "         [0.        ],\n",
              "         [0.        ]],\n",
              "\n",
              "        [[0.        ],\n",
              "         [0.        ],\n",
              "         [0.        ],\n",
              "         ...,\n",
              "         [0.        ],\n",
              "         [0.        ],\n",
              "         [0.        ]]],\n",
              "\n",
              "\n",
              "       [[[0.        ],\n",
              "         [0.        ],\n",
              "         [0.        ],\n",
              "         ...,\n",
              "         [0.        ],\n",
              "         [0.        ],\n",
              "         [0.        ]],\n",
              "\n",
              "        [[0.        ],\n",
              "         [0.        ],\n",
              "         [0.        ],\n",
              "         ...,\n",
              "         [0.        ],\n",
              "         [0.        ],\n",
              "         [0.        ]],\n",
              "\n",
              "        [[0.        ],\n",
              "         [0.        ],\n",
              "         [0.        ],\n",
              "         ...,\n",
              "         [0.        ],\n",
              "         [0.        ],\n",
              "         [0.        ]],\n",
              "\n",
              "        ...,\n",
              "\n",
              "        [[0.        ],\n",
              "         [0.        ],\n",
              "         [0.        ],\n",
              "         ...,\n",
              "         [0.        ],\n",
              "         [0.        ],\n",
              "         [0.        ]],\n",
              "\n",
              "        [[0.        ],\n",
              "         [0.        ],\n",
              "         [0.        ],\n",
              "         ...,\n",
              "         [0.        ],\n",
              "         [0.        ],\n",
              "         [0.        ]],\n",
              "\n",
              "        [[0.        ],\n",
              "         [0.        ],\n",
              "         [0.        ],\n",
              "         ...,\n",
              "         [0.        ],\n",
              "         [0.        ],\n",
              "         [0.        ]]]])"
            ]
          },
          "metadata": {},
          "execution_count": 28
        }
      ]
    },
    {
      "cell_type": "code",
      "source": [
        "# Build the CNN model\n",
        "model = Sequential([\n",
        "    Conv2D(32, (3, 3), activation='relu', input_shape=(28, 28, 1)),\n",
        "    MaxPooling2D(pool_size=(2, 2)),\n",
        "    Conv2D(64, (3, 3), activation='relu'),\n",
        "    MaxPooling2D(pool_size=(2, 2)),\n",
        "    Conv2D(128, (3, 3), activation='relu'),\n",
        "    Flatten(),\n",
        "    Dense(128, activation='relu'),\n",
        "    Dense(128, activation='softmax')  # Output layer size should match the number of classes\n",
        "])"
      ],
      "metadata": {
        "id": "BF5aqhBqzt32"
      },
      "execution_count": null,
      "outputs": []
    },
    {
      "cell_type": "code",
      "source": [
        "# Compile the model\n",
        "model.compile(optimizer= 'adam', loss='sparse_categorical_crossentropy', metrics=['accuracy'])\n"
      ],
      "metadata": {
        "id": "alPL5HfCzwj-"
      },
      "execution_count": null,
      "outputs": []
    },
    {
      "cell_type": "code",
      "source": [
        "history = model.fit(X_train, y_train, epochs=5, batch_size=32, validation_split=0.2)"
      ],
      "metadata": {
        "colab": {
          "base_uri": "https://localhost:8080/"
        },
        "id": "mMy-09Rb0JxI",
        "outputId": "fa0fe788-88aa-452d-aba4-97c870d8bed0"
      },
      "execution_count": null,
      "outputs": [
        {
          "output_type": "stream",
          "name": "stdout",
          "text": [
            "Epoch 1/5\n",
            "16286/16286 [==============================] - 394s 24ms/step - loss: 0.4986 - accuracy: 0.8287 - val_loss: 0.4015 - val_accuracy: 0.8546\n",
            "Epoch 2/5\n",
            "16286/16286 [==============================] - 391s 24ms/step - loss: 0.3828 - accuracy: 0.8593 - val_loss: 0.3769 - val_accuracy: 0.8624\n",
            "Epoch 3/5\n",
            "16286/16286 [==============================] - 387s 24ms/step - loss: 0.3601 - accuracy: 0.8655 - val_loss: 0.3720 - val_accuracy: 0.8624\n",
            "Epoch 4/5\n",
            "16286/16286 [==============================] - 389s 24ms/step - loss: 0.3466 - accuracy: 0.8697 - val_loss: 0.3726 - val_accuracy: 0.8641\n",
            "Epoch 5/5\n",
            "16286/16286 [==============================] - 385s 24ms/step - loss: 0.3369 - accuracy: 0.8724 - val_loss: 0.3790 - val_accuracy: 0.8643\n"
          ]
        }
      ]
    },
    {
      "cell_type": "code",
      "source": [
        "\n",
        "# Plot training & validation accuracy\n",
        "plt.plot(history.history['accuracy'], label='Train Accuracy')\n",
        "plt.plot(history.history['val_accuracy'], label='Validation Accuracy')\n",
        "plt.title('Model Accuracy')\n",
        "plt.xlabel('Epoch')\n",
        "plt.ylabel('Accuracy')\n",
        "plt.legend()\n",
        "plt.show()\n",
        "\n"
      ],
      "metadata": {
        "id": "P676Q-74CZ-d",
        "colab": {
          "base_uri": "https://localhost:8080/",
          "height": 472
        },
        "outputId": "257cb97c-d58e-4312-b6fc-a3b937224ce3"
      },
      "execution_count": null,
      "outputs": [
        {
          "output_type": "display_data",
          "data": {
            "text/plain": [
              "<Figure size 640x480 with 1 Axes>"
            ],
            "image/png": "[encoded data removed]"
          },
          "metadata": {}
        }
      ]
    },
    {
      "cell_type": "code",
      "source": [
        "predictions = model.predict(X_test)"
      ],
      "metadata": {
        "colab": {
          "base_uri": "https://localhost:8080/"
        },
        "id": "E8peOcdd3pyY",
        "outputId": "50cf0da0-b10e-4559-a876-6f9952805514"
      },
      "execution_count": null,
      "outputs": [
        {
          "output_type": "stream",
          "name": "stdout",
          "text": [
            "5090/5090 [==============================] - 31s 6ms/step\n"
          ]
        }
      ]
    },
    {
      "cell_type": "code",
      "source": [
        "predictions"
      ],
      "metadata": {
        "colab": {
          "base_uri": "https://localhost:8080/"
        },
        "id": "_QX4JYHL3093",
        "outputId": "ec8cb479-c1b7-4bbd-812f-6c60b672d821"
      },
      "execution_count": null,
      "outputs": [
        {
          "output_type": "execute_result",
          "data": {
            "text/plain": [
              "array([[2.2665738e-15, 1.5991871e-15, 5.0804422e-15, ..., 4.3406614e-15,\n",
              "        2.1008253e-15, 2.4919288e-15],\n",
              "       [3.5954008e-14, 9.1481049e-14, 1.4746837e-13, ..., 1.4605086e-13,\n",
              "        8.9594334e-14, 7.8944365e-14],\n",
              "       [5.1879617e-21, 1.1000232e-20, 1.2955657e-20, ..., 8.6504012e-21,\n",
              "        1.7631778e-20, 1.2940839e-20],\n",
              "       ...,\n",
              "       [2.1118010e-19, 2.9544210e-20, 6.9219223e-20, ..., 4.2697790e-20,\n",
              "        1.1207779e-19, 7.7933707e-20],\n",
              "       [1.1692922e-11, 1.1555792e-11, 2.0819537e-11, ..., 1.4369954e-11,\n",
              "        2.6446375e-11, 1.5840088e-11],\n",
              "       [3.7475240e-10, 5.1683235e-10, 8.7608309e-10, ..., 8.1088142e-10,\n",
              "        6.3389238e-10, 2.2452433e-10]], dtype=float32)"
            ]
          },
          "metadata": {},
          "execution_count": 34
        }
      ]
    },
    {
      "cell_type": "code",
      "source": [
        "# Plot the corresponding image\n",
        "plt.imshow(X_test[1000].reshape(28, 28), cmap='gray')\n",
        "plt.show()"
      ],
      "metadata": {
        "colab": {
          "base_uri": "https://localhost:8080/",
          "height": 430
        },
        "id": "d2Jwy7D44Pij",
        "outputId": "c01a00d7-9286-46fa-88fd-9440b3099358"
      },
      "execution_count": null,
      "outputs": [
        {
          "output_type": "display_data",
          "data": {
            "text/plain": [
              "<Figure size 640x480 with 1 Axes>"
            ],
            "image/png": "[encoded data removed]"
          },
          "metadata": {}
        }
      ]
    },
    {
      "cell_type": "code",
      "source": [
        "pred = np.argmax(predictions[1000])"
      ],
      "metadata": {
        "id": "G3oK5ynr34x_"
      },
      "execution_count": null,
      "outputs": []
    },
    {
      "cell_type": "code",
      "source": [
        "pred"
      ],
      "metadata": {
        "colab": {
          "base_uri": "https://localhost:8080/"
        },
        "id": "-uuhSZm_4lUH",
        "outputId": "684ef4da-79c3-4f34-dbe8-e15e3144aaa6"
      },
      "execution_count": null,
      "outputs": [
        {
          "output_type": "execute_result",
          "data": {
            "text/plain": [
              "83"
            ]
          },
          "metadata": {},
          "execution_count": 37
        }
      ]
    },
    {
      "cell_type": "code",
      "source": [
        "print(chr(pred))"
      ],
      "metadata": {
        "colab": {
          "base_uri": "https://localhost:8080/"
        },
        "id": "yJGEcXYP4nMa",
        "outputId": "56768127-aab1-4073-cc63-ae6b5f453ea4"
      },
      "execution_count": null,
      "outputs": [
        {
          "output_type": "stream",
          "name": "stdout",
          "text": [
            "S\n"
          ]
        }
      ]
    },
    {
      "cell_type": "markdown",
      "source": [
        "# Bulid prediction System"
      ],
      "metadata": {
        "id": "cEzgSGmRk9kK"
      }
    },
    {
      "cell_type": "code",
      "source": [
        "img = X_test[1001]"
      ],
      "metadata": {
        "id": "6r-NqaGx5Qqe"
      },
      "execution_count": null,
      "outputs": []
    },
    {
      "cell_type": "code",
      "source": [
        "img.shape"
      ],
      "metadata": {
        "colab": {
          "base_uri": "https://localhost:8080/"
        },
        "id": "Cos_aHBAlL_i",
        "outputId": "59bffd32-3f04-470d-88b2-55bbd215b7ab"
      },
      "execution_count": null,
      "outputs": [
        {
          "output_type": "execute_result",
          "data": {
            "text/plain": [
              "(28, 28, 1)"
            ]
          },
          "metadata": {},
          "execution_count": 79
        }
      ]
    },
    {
      "cell_type": "code",
      "source": [
        "img = img.reshape(1,28,28,1)"
      ],
      "metadata": {
        "id": "EXmczUSUlNi2"
      },
      "execution_count": null,
      "outputs": []
    },
    {
      "cell_type": "code",
      "source": [
        "plt.imshow(img.reshape(28,28))\n",
        "plt.show()"
      ],
      "metadata": {
        "colab": {
          "base_uri": "https://localhost:8080/",
          "height": 430
        },
        "id": "SHgjZMKmlWZS",
        "outputId": "c451ccd8-bdb1-467b-dff2-4b17f019e299"
      },
      "execution_count": null,
      "outputs": [
        {
          "output_type": "display_data",
          "data": {
            "text/plain": [
              "<Figure size 640x480 with 1 Axes>"
            ],
            "image/png": "[encoded data removed]"
          },
          "metadata": {}
        }
      ]
    },
    {
      "cell_type": "code",
      "source": [
        "predicted_img = model.predict(img)"
      ],
      "metadata": {
        "colab": {
          "base_uri": "https://localhost:8080/"
        },
        "id": "uoLyivxWlddL",
        "outputId": "4d4e4e6e-6e1c-4873-f8e1-5350aeb6c07c"
      },
      "execution_count": null,
      "outputs": [
        {
          "output_type": "stream",
          "name": "stdout",
          "text": [
            "1/1 [==============================] - 0s 25ms/step\n"
          ]
        }
      ]
    },
    {
      "cell_type": "code",
      "source": [
        "predicted_img"
      ],
      "metadata": {
        "colab": {
          "base_uri": "https://localhost:8080/"
        },
        "collapsed": true,
        "id": "Kaxo_sGLlthV",
        "outputId": "10e69fde-48dc-4aac-e1ec-11ff63daa545"
      },
      "execution_count": null,
      "outputs": [
        {
          "output_type": "execute_result",
          "data": {
            "text/plain": [
              "array([[3.3147352e-18, 1.0494053e-18, 8.8571956e-19, 2.7371733e-18,\n",
              "        3.4090150e-18, 1.8000468e-18, 1.9074756e-18, 1.5196123e-18,\n",
              "        2.7361292e-18, 3.7027384e-18, 5.3531589e-18, 2.0775235e-18,\n",
              "        9.6183983e-18, 3.5615949e-18, 1.6736601e-18, 1.6618523e-18,\n",
              "        1.9603827e-18, 3.6156954e-18, 4.5710158e-18, 4.8947887e-18,\n",
              "        3.4713751e-18, 3.0628467e-18, 3.6462787e-18, 2.8102403e-18,\n",
              "        1.9249459e-18, 2.2530322e-18, 1.7762273e-18, 3.2242679e-18,\n",
              "        5.1512648e-18, 3.7233327e-18, 5.9856555e-18, 5.5948884e-18,\n",
              "        1.6022235e-17, 4.3022371e-18, 3.2969039e-18, 2.4282966e-18,\n",
              "        3.4787192e-18, 2.8948716e-18, 6.6969713e-18, 1.5423538e-18,\n",
              "        6.8001727e-19, 3.9470813e-18, 1.9323617e-18, 3.3016358e-18,\n",
              "        2.3824919e-18, 5.1860845e-18, 2.1976696e-18, 8.7303289e-19,\n",
              "        7.4821753e-11, 6.9951100e-11, 1.7415879e-07, 2.9495217e-09,\n",
              "        3.6744274e-11, 5.0629053e-11, 2.6869252e-11, 5.4812006e-15,\n",
              "        8.2628588e-07, 3.7073040e-14, 2.6351470e-18, 3.7421411e-19,\n",
              "        5.2166410e-18, 5.1290682e-18, 2.9956877e-18, 8.9910500e-19,\n",
              "        2.2259852e-18, 1.5971748e-12, 2.3864262e-14, 1.8779842e-08,\n",
              "        8.4629124e-13, 1.5991455e-10, 6.3771710e-10, 3.1578178e-11,\n",
              "        3.3941502e-11, 5.9437688e-10, 1.3848907e-06, 9.3513306e-16,\n",
              "        3.0665129e-10, 3.4894337e-13, 1.3225225e-11, 4.8088982e-09,\n",
              "        1.1324709e-13, 7.6187789e-12, 2.6697713e-18, 6.8975523e-09,\n",
              "        3.0031570e-12, 1.1528687e-08, 2.2390776e-12, 1.6812256e-12,\n",
              "        1.0344355e-10, 4.3435988e-09, 5.1033083e-10, 4.5953878e-18,\n",
              "        3.1127892e-18, 2.2052782e-18, 3.1136681e-18, 3.1719562e-18,\n",
              "        2.9655796e-18, 4.7153212e-06, 5.1987659e-09, 8.1775815e-11,\n",
              "        9.9999213e-01, 3.2526984e-08, 5.1685951e-11, 6.9165723e-10,\n",
              "        3.7011253e-12, 1.6795300e-12, 6.2210347e-07, 1.8374086e-15,\n",
              "        1.6040287e-08, 1.5321751e-16, 6.4591290e-13, 2.8678251e-12,\n",
              "        1.4239873e-17, 2.4572597e-13, 2.3572398e-13, 2.5243410e-10,\n",
              "        7.0970835e-08, 9.5859057e-11, 1.3782132e-10, 1.7080836e-14,\n",
              "        1.6365126e-10, 3.9719010e-09, 2.2769359e-10, 2.6774614e-18,\n",
              "        5.0399275e-18, 3.2884129e-18, 8.2187978e-19, 2.7522923e-18]],\n",
              "      dtype=float32)"
            ]
          },
          "metadata": {},
          "execution_count": 83
        }
      ]
    },
    {
      "cell_type": "code",
      "source": [
        "predicted_img = np.argmax(predicted_img)"
      ],
      "metadata": {
        "id": "fp6jq3L7me8p"
      },
      "execution_count": null,
      "outputs": []
    },
    {
      "cell_type": "code",
      "source": [
        "print(\"The predicted character is \",chr(predicted_img))"
      ],
      "metadata": {
        "colab": {
          "base_uri": "https://localhost:8080/"
        },
        "id": "X5GwdkP9mjzo",
        "outputId": "34507c8b-068c-43ca-d264-2a556ad9d298"
      },
      "execution_count": null,
      "outputs": [
        {
          "output_type": "stream",
          "name": "stdout",
          "text": [
            "The predicted character is  d\n"
          ]
        }
      ]
    },
    {
      "cell_type": "code",
      "source": [
        "# Save the model (optional)\n",
        "model.save('handwritten_character_recognition_model.h5')"
      ],
      "metadata": {
        "colab": {
          "base_uri": "https://localhost:8080/"
        },
        "id": "1qHOl6hjmq65",
        "outputId": "b8340147-efc1-4631-8dba-6a88d9468372"
      },
      "execution_count": null,
      "outputs": [
        {
          "output_type": "stream",
          "name": "stderr",
          "text": [
            "/usr/local/lib/python3.10/dist-packages/keras/src/engine/training.py:3103: UserWarning: You are saving your model as an HDF5 file via `model.save()`. This file format is considered legacy. We recommend using instead the native Keras format, e.g. `model.save('my_model.keras')`.\n",
            "  saving_api.save_model(\n"
          ]
        }
      ]
    },
    {
      "cell_type": "code",
      "source": [],
      "metadata": {
        "id": "26fhbiI4mlD3"
      },
      "execution_count": null,
      "outputs": []
    }
  ]
}